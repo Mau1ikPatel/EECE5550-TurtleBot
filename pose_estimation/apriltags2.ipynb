{
 "cells": [
  {
   "cell_type": "code",
   "execution_count": 1,
   "id": "05d4c521",
   "metadata": {},
   "outputs": [],
   "source": [
    "import argparse\n",
    "import cv2\n",
    "import numpy as np\n",
    "from PIL import Image \n",
    "import math"
   ]
  },
  {
   "cell_type": "markdown",
   "id": "72c5cd49",
   "metadata": {},
   "source": [
    "## assumes input of homographized frame"
   ]
  },
  {
   "cell_type": "markdown",
   "id": "8802c4c0",
   "metadata": {},
   "source": [
    "1) solvepnp"
   ]
  },
  {
   "cell_type": "markdown",
   "id": "0a9b7df6",
   "metadata": {},
   "source": [
    "notes: actual camera calibration matrix stored on pi"
   ]
  },
  {
   "cell_type": "code",
   "execution_count": 78,
   "id": "e0eb66af",
   "metadata": {},
   "outputs": [],
   "source": [
    "def get_pose(frame,K,tag_size=1):\n",
    "    \n",
    "    ## camera\n",
    "    opoints = np.asarray([[-1, -1, 0],\n",
    "                        [ 1, -1, 0],\n",
    "                        [ 1,  1, 0],\n",
    "                        [-1,  1, 0]])\n",
    "    \n",
    "\n",
    "    s = 0.5*tag_size    \n",
    "    \n",
    "    ## scale camera\n",
    "    opoints = opoints*s\n",
    "    \n",
    "    \n",
    "    ## replace distortion coeffecients with values from calibration\n",
    "    dcoeffs = np.zeros(4)\n",
    "    \n",
    "    _, r, t = cv2.solvePnP(opoints, frame, K, dcoeffs,flags=cv2.SOLVEPNP_ITERATIVE)\n",
    "    \n",
    "    print(\"rotation\",r,\"translation\",t)\n",
    "    return r,t"
   ]
  },
  {
   "cell_type": "code",
   "execution_count": 7,
   "id": "2003b74a",
   "metadata": {},
   "outputs": [],
   "source": [
    "K = np.asarray([[0.05, 0, 0.867745304],\n",
    "                      [0, 0.05, 0.296830287], \n",
    "                      [0, 0, 1]])\n",
    "dcoeffs = np.zeros(4)"
   ]
  },
  {
   "cell_type": "markdown",
   "id": "05edb3c1",
   "metadata": {},
   "source": [
    "2) Logic from https://github.com/YuehChuan/tb3_aprilTag/blob/c050a7451a7fd776a5d9ab9992760c40caee22f6/software/apriltags-cpp/src/CameraUtil.cpp"
   ]
  },
  {
   "cell_type": "code",
   "execution_count": 79,
   "id": "175bb374",
   "metadata": {},
   "outputs": [],
   "source": [
    "def get_pose1(fx,fy, s, frame):\n",
    "    \n",
    "    ## focal matrix\n",
    "    F = np.identity(3)\n",
    "    F[1][1] = -1\n",
    "    F[2][2] = -1\n",
    "    frame = np.matmul(F,frame)\n",
    "    \n",
    "    ## scale frame\n",
    "\n",
    "    M = np.zeroes(4,4)\n",
    "    M[0][0] =  frame[0][0] / fx\n",
    "    M[0][1] =  frame[0][1]/ fx\n",
    "    M[0][3] =  frame[0][2] / fx\n",
    "    M[1][0] =  frame[1][0] / fy\n",
    "    M[1][1] =  frame[1][1] / fy\n",
    "    M[1][3] =  frame[1][2] / fy\n",
    "    M[2][0] =  frame[2][0]\n",
    "    M[2][1] =  frame[2][1]\n",
    "    M[2][3] =  frame[2][2]\n",
    "\n",
    "    \n",
    "    ## unit vectors of columns \n",
    "    scale0 = np.sqrt(((M[0][0])**2) + ((M[1][0])**2) + ((M[2][0])**2))\n",
    "    scale1 = np.sqrt(((M[0][1])**2) + ((M[1][1])**2) + ((M[2][1])**2))\n",
    "    scale = np.sqrt(scale0*scale1)\n",
    "    \n",
    "    \n",
    "    ## scale M\n",
    "    M *= 1.0/scale\n",
    "    \n",
    "    \n",
    "    ## remove anything behind camera\n",
    "    if M[2][3] > 0:\n",
    "        M *= -1\n",
    "    \n",
    "    \n",
    "    ## constants\n",
    "    M[3][0] = 0\n",
    "    M[3][1] = 0\n",
    "    M[3][2] = 0\n",
    "    M[3][3] = 1\n",
    "\n",
    "    \n",
    "    ## first two columns, third rotation column is cross product  \n",
    "    a= M[:,0]\n",
    "    b= M[:,1]\n",
    "    ab = np.cross(a,b)\n",
    "    \n",
    "    M[0][2] = ab[0]\n",
    "    M[1][2] = ab[1]\n",
    "    M[2][2] = ab[2]\n",
    "\n",
    "    \n",
    "    ## decompose current rotation and define rotation without singular values\n",
    "    R = M[:3,:3]\n",
    "    \n",
    "    u, sigma,v = np.linalg.svd(R)\n",
    "    MR = np.matmul(u,v)\n",
    "    \n",
    "    M[:3,:3] = MR\n",
    "    \n",
    "    ## scale\n",
    "    for i in range(0,3):\n",
    "        M[i][3] *= scl*tagSize/2\n",
    "    \n",
    "    return M[:3,:3],M[:,3:]"
   ]
  }
 ],
 "metadata": {
  "kernelspec": {
   "display_name": "tf2",
   "language": "python",
   "name": "tf2"
  },
  "language_info": {
   "codemirror_mode": {
    "name": "ipython",
    "version": 3
   },
   "file_extension": ".py",
   "mimetype": "text/x-python",
   "name": "python",
   "nbconvert_exporter": "python",
   "pygments_lexer": "ipython3",
   "version": "3.10.9"
  }
 },
 "nbformat": 4,
 "nbformat_minor": 5
}
